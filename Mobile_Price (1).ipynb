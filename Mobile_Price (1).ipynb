{
 "cells": [
  {
   "cell_type": "markdown",
   "metadata": {},
   "source": [
    "## Import Libraries and Train Data"
   ]
  },
  {
   "cell_type": "code",
   "execution_count": 381,
   "metadata": {},
   "outputs": [],
   "source": [
    "import pandas           #data manipulation lib\n",
    "import numpy as np\n",
    "import itertools\n",
    "import matplotlib.pyplot as plt\n",
    "from matplotlib import style\n",
    "from sklearn import tree, svm, neighbors, preprocessing"
   ]
  },
  {
   "cell_type": "code",
   "execution_count": 382,
   "metadata": {},
   "outputs": [
    {
     "data": {
      "text/plain": [
       "pandas.core.frame.DataFrame"
      ]
     },
     "execution_count": 382,
     "metadata": {},
     "output_type": "execute_result"
    }
   ],
   "source": [
    "MobileData=pandas.read_csv(\"Train.csv\") #friendss\n",
    "MDataFrame=pandas.DataFrame(MobileData)    #friend1\n",
    "style.use(\"ggplot\")\n",
    "type(MobileData)"
   ]
  },
  {
   "cell_type": "code",
   "execution_count": 383,
   "metadata": {},
   "outputs": [
    {
     "name": "stdout",
     "output_type": "stream",
     "text": [
      "<class 'pandas.core.frame.DataFrame'>\n",
      "RangeIndex: 2000 entries, 0 to 1999\n",
      "Data columns (total 21 columns):\n",
      "battery_power    2000 non-null int64\n",
      "blue             2000 non-null int64\n",
      "clock_speed      2000 non-null float64\n",
      "dual_sim         2000 non-null int64\n",
      "fc               2000 non-null int64\n",
      "four_g           2000 non-null int64\n",
      "int_memory       2000 non-null int64\n",
      "m_dep            2000 non-null float64\n",
      "mobile_wt        2000 non-null int64\n",
      "n_cores          2000 non-null int64\n",
      "pc               2000 non-null int64\n",
      "px_height        2000 non-null int64\n",
      "px_width         2000 non-null int64\n",
      "ram              2000 non-null int64\n",
      "sc_h             2000 non-null int64\n",
      "sc_w             2000 non-null int64\n",
      "talk_time        2000 non-null int64\n",
      "three_g          2000 non-null int64\n",
      "touch_screen     2000 non-null int64\n",
      "wifi             2000 non-null int64\n",
      "price_range      2000 non-null int64\n",
      "dtypes: float64(2), int64(19)\n",
      "memory usage: 328.2 KB\n"
     ]
    }
   ],
   "source": [
    "MDataFrame.info()"
   ]
  },
  {
   "cell_type": "markdown",
   "metadata": {},
   "source": [
    "## Binning"
   ]
  },
  {
   "cell_type": "code",
   "execution_count": 384,
   "metadata": {},
   "outputs": [
    {
     "name": "stdout",
     "output_type": "stream",
     "text": [
      "1998\n",
      "501\n",
      "<class 'pandas.core.series.Series'>\n"
     ]
    }
   ],
   "source": [
    "print(MDataFrame[\"battery_power\"].max())\n",
    "print(MDataFrame[\"battery_power\"].min())\n",
    "print(type(MDataFrame[\"price_range\"]))\n",
    "\n",
    "salbin=[499,999,1499,1999]\n",
    "sallabel=[1,2,3]\n",
    "MDataFrame[\"battery_power\"]=pandas.cut(MDataFrame[\"battery_power\"], bins=salbin,labels=sallabel)\n",
    "#print(MDataFrame[[\"battery_power\"]])\n"
   ]
  },
  {
   "cell_type": "code",
   "execution_count": 385,
   "metadata": {},
   "outputs": [
    {
     "name": "stdout",
     "output_type": "stream",
     "text": [
      "3998\n",
      "256\n"
     ]
    }
   ],
   "source": [
    "print(MDataFrame[\"ram\"].max())\n",
    "print(MDataFrame[\"ram\"].min())\n",
    "\n",
    "rambin=[0,999,1999,2999,3999]\n",
    "ramlabel=[1,2,3,4]\n",
    "MDataFrame[\"ram\"]=pandas.cut(MDataFrame[\"ram\"], bins=rambin,labels=ramlabel)\n",
    "#print(MDataFrame[[\"battery_power\"]])\n"
   ]
  },
  {
   "cell_type": "code",
   "execution_count": 386,
   "metadata": {},
   "outputs": [
    {
     "name": "stdout",
     "output_type": "stream",
     "text": [
      "64\n",
      "2\n"
     ]
    }
   ],
   "source": [
    "print(MDataFrame[\"int_memory\"].max())\n",
    "print(MDataFrame[\"int_memory\"].min())\n",
    "\n",
    "intbin=[0,20,40,60,80]\n",
    "intlabel=[1,2,3,4]\n",
    "MDataFrame[\"int_memory\"]=pandas.cut(MDataFrame[\"int_memory\"], bins=intbin,labels=intlabel)\n",
    "#print(MDataFrame[[\"battery_power\"]])\n"
   ]
  },
  {
   "cell_type": "code",
   "execution_count": 387,
   "metadata": {},
   "outputs": [
    {
     "name": "stdout",
     "output_type": "stream",
     "text": [
      "3.0\n",
      "0.5\n"
     ]
    }
   ],
   "source": [
    "print(MDataFrame[\"clock_speed\"].max())\n",
    "print(MDataFrame[\"clock_speed\"].min())\n",
    "\n",
    "clkbin=[0,1,2,3]\n",
    "clklabel=[1,2,3]\n",
    "MDataFrame[\"clock_speed\"]=pandas.cut(MDataFrame[\"clock_speed\"], bins=clkbin,labels=clklabel)\n",
    "#print(MDataFrame[[\"battery_power\"]])\n"
   ]
  },
  {
   "cell_type": "code",
   "execution_count": 388,
   "metadata": {},
   "outputs": [
    {
     "name": "stdout",
     "output_type": "stream",
     "text": [
      "19\n",
      "0\n"
     ]
    }
   ],
   "source": [
    "print(MDataFrame[\"fc\"].max())\n",
    "print(MDataFrame[\"fc\"].min())\n",
    "#print(type(MDataFrame[\"price_range\"]))\n",
    "\n",
    "fcbin=[0,5,10,15,20]\n",
    "fclabel=[1,2,3,4]\n",
    "MDataFrame[\"fc\"]=pandas.cut(MDataFrame[\"fc\"], bins=fcbin,labels=fclabel)\n",
    "#print(MDataFrame[[\"battery_power\"]])\n"
   ]
  },
  {
   "cell_type": "code",
   "execution_count": 389,
   "metadata": {},
   "outputs": [
    {
     "name": "stdout",
     "output_type": "stream",
     "text": [
      "20\n",
      "0\n"
     ]
    }
   ],
   "source": [
    "print(MDataFrame[\"pc\"].max())\n",
    "print(MDataFrame[\"pc\"].min())\n",
    "#print(type(MDataFrame[\"price_range\"]))\n",
    "\n",
    "pcbin=[0,5,10,15,20]\n",
    "pclabel=[1,2,3,4]\n",
    "MDataFrame[\"pc\"]=pandas.cut(MDataFrame[\"pc\"], bins=pcbin,labels=pclabel)\n",
    "#print(MDataFrame[[\"battery_power\"]])\n"
   ]
  },
  {
   "cell_type": "markdown",
   "metadata": {},
   "source": [
    "## Features"
   ]
  },
  {
   "cell_type": "code",
   "execution_count": 390,
   "metadata": {},
   "outputs": [],
   "source": [
    "Mfeatures = [\"battery_power\", \"int_memory\", \"clock_speed\", \"ram\", \"n_cores\", \"three_g\", \"touch_screen\", \"wifi\"]\n",
    "features = [\"dual_sim\", \"four_g\", \"blue\"]"
   ]
  },
  {
   "cell_type": "markdown",
   "metadata": {},
   "source": [
    "## Import Test Data "
   ]
  },
  {
   "cell_type": "code",
   "execution_count": 391,
   "metadata": {},
   "outputs": [
    {
     "data": {
      "text/plain": [
       "pandas.core.frame.DataFrame"
      ]
     },
     "execution_count": 391,
     "metadata": {},
     "output_type": "execute_result"
    }
   ],
   "source": [
    "TestMobileData = pandas.read_csv(\"test.csv\") #friendss\n",
    "TDataFrame=pandas.DataFrame(TestMobileData)    #friend1\n",
    "style.use(\"ggplot\")\n",
    "type(TestMobileData)"
   ]
  },
  {
   "cell_type": "markdown",
   "metadata": {},
   "source": [
    "## Test data binning"
   ]
  },
  {
   "cell_type": "code",
   "execution_count": 392,
   "metadata": {},
   "outputs": [],
   "source": [
    "salbin=[499,999,1499,1999]\n",
    "sallabel=[1,2,3]\n",
    "TDataFrame[\"battery_power\"]=pandas.cut(TDataFrame[\"battery_power\"], bins=salbin,labels=sallabel)\n",
    "#print(TDataFrame[[\"battery_power\"]])"
   ]
  },
  {
   "cell_type": "code",
   "execution_count": 393,
   "metadata": {},
   "outputs": [],
   "source": [
    "rambin=[0,999,1999,2999,3999]\n",
    "ramlabel=[1,2,3,4]\n",
    "TDataFrame[\"ram\"]=pandas.cut(TDataFrame[\"ram\"], bins=rambin,labels=ramlabel)\n",
    "#print(MDataFrame[[\"battery_power\"]])"
   ]
  },
  {
   "cell_type": "code",
   "execution_count": 394,
   "metadata": {},
   "outputs": [],
   "source": [
    "intbin=[0,20,40,60,80]\n",
    "intlabel=[1,2,3,4]\n",
    "TDataFrame[\"int_memory\"]=pandas.cut(TDataFrame[\"int_memory\"], bins=intbin,labels=intlabel)\n",
    "#print(MDataFrame[[\"battery_power\"]])"
   ]
  },
  {
   "cell_type": "code",
   "execution_count": 395,
   "metadata": {},
   "outputs": [],
   "source": [
    "cklbin=[0,1,2,3]\n",
    "clklabel=[1,2,3]\n",
    "TDataFrame[\"clock_speed\"]=pandas.cut(TDataFrame[\"clock_speed\"], bins=clkbin,labels=clklabel)\n",
    "#print(MDataFrame[[\"battery_power\"]])"
   ]
  },
  {
   "cell_type": "code",
   "execution_count": 396,
   "metadata": {},
   "outputs": [],
   "source": [
    "fcbin=[0,5,10,15,20]\n",
    "fclabel=[1,2,3,4]\n",
    "TDataFrame[\"fc\"]=pandas.cut(TDataFrame[\"fc\"], bins=fcbin,labels=fclabel)"
   ]
  },
  {
   "cell_type": "code",
   "execution_count": 397,
   "metadata": {},
   "outputs": [],
   "source": [
    "pcbin=[0,5,10,15,20]\n",
    "pclabel=[1,2,3,4]\n",
    "TDataFrame[\"pc\"]=pandas.cut(TDataFrame[\"pc\"], bins=pcbin,labels=pclabel)"
   ]
  },
  {
   "cell_type": "code",
   "execution_count": 398,
   "metadata": {},
   "outputs": [],
   "source": [
    "X_train1 = MDataFrame[Mfeatures]\n",
    "y_train1 = MDataFrame[\"price_range\"]\n",
    "\n",
    "X_test1 = TDataFrame[Mfeatures]\n",
    "#y_test1 = TDataFrame[\"price_range\"]"
   ]
  },
  {
   "cell_type": "markdown",
   "metadata": {},
   "source": [
    "## Support Vector Machine"
   ]
  },
  {
   "cell_type": "code",
   "execution_count": 399,
   "metadata": {},
   "outputs": [],
   "source": [
    "c1=svm.LinearSVC()\n",
    "df1=c1.fit(X_train1, y_train1)"
   ]
  },
  {
   "cell_type": "code",
   "execution_count": 400,
   "metadata": {},
   "outputs": [],
   "source": [
    "y_pred1=c1.predict(X_test1)"
   ]
  },
  {
   "cell_type": "code",
   "execution_count": 401,
   "metadata": {},
   "outputs": [
    {
     "name": "stdout",
     "output_type": "stream",
     "text": [
      "1000\n",
      "[3 3 3 3 1 3 3 0 3 0 3 3 0 0 2 0 3 2 3 2 0 3 1 2 3 0 2 0 3 0 2 0 3 0 0 0 3\n",
      " 1 3 2 0 2 0 0 0 1 1 3 0 3 2 0 1 0 3 1 3 1 0 3 3 3 0 3 1 0 1 2 0 1 1 1 2 3\n",
      " 3 0 2 0 2 3 1 3 3 0 3 0 3 1 3 0 0 1 3 0 2 2 0 2 1 3 2 0 0 2 0 3 0 1 2 3 3\n",
      " 3 1 3 3 3 3 1 3 0 0 3 2 1 2 0 3 3 3 1 0 1 1 2 3 0 3 0 3 2 1 3 1 2 3 3 3 3\n",
      " 2 3 3 3 0 0 3 2 3 3 3 3 2 2 3 3 3 3 1 0 3 0 0 0 1 0 0 2 1 0 2 2 0 0 0 0 2\n",
      " 2 1 0 0 0 0 0 0 3 1 1 2 2 2 3 1 2 3 3 3 1 2 1 1 0 2 2 1 2 3 3 1 2 0 3 2 3\n",
      " 3 0 0 0 0 3 0 2 0 2 3 1 3 0 3 1 3 1 2 0 0 3 1 2 2 3 0 1 3 0 0 3 3 3 1 3 1\n",
      " 0 3 2 0 3 3 3 3 1 0 0 2 3 2 1 3 2 0 3 0 0 3 0 0 3 2 3 3 2 1 3 3 3 3 2 2 1\n",
      " 1 0 2 3 1 0 0 3 0 3 0 0 1 0 2 3 0 3 1 3 1 2 0 0 0 0 3 2 0 0 0 3 3 0 3 3 0\n",
      " 3 3 2 3 1 3 3 2 1 3 3 3 0 3 0 3 1 3 1 3 3 0 1 0 3 0 3 1 3 0 0 0 0 3 0 0 1\n",
      " 1 1 1 3 2 0 0 1 0 3 3 0 3 0 2 2 2 1 3 1 1 3 2 2 3 0 0 0 0 3 2 1 0 2 0 0 1\n",
      " 0 0 0 0 3 2 3 2 3 0 3 0 3 0 1 1 1 2 0 2 2 3 3 1 3 1 3 1 3 2 0 2 2 1 1 0 0\n",
      " 1 0 2 0 1 3 3 0 3 3 0 0 3 2 1 0 3 1 3 1 3 0 3 3 3 3 0 2 0 2 2 0 2 1 0 0 0\n",
      " 1 2 3 3 3 2 2 1 2 2 2 3 3 1 1 3 1 3 2 1 0 2 3 0 0 0 3 1 0 3 2 2 0 3 0 1 2\n",
      " 0 3 0 3 3 0 2 0 3 3 1 0 2 3 3 0 2 0 3 0 3 3 0 3 3 2 3 0 1 3 3 0 3 2 3 0 0\n",
      " 1 0 3 0 0 3 2 3 3 0 3 3 3 2 3 3 2 3 1 3 3 3 0 0 1 1 1 2 2 0 0 2 2 3 2 0 3\n",
      " 0 3 3 0 2 3 0 2 0 1 0 1 2 1 0 0 1 2 2 0 2 3 0 0 3 0 0 3 2 0 0 0 0 0 3 0 3\n",
      " 0 3 2 0 3 3 0 2 0 3 2 3 1 0 3 0 1 0 1 0 0 0 1 1 2 1 3 0 3 2 2 1 3 2 0 1 3\n",
      " 0 3 3 0 2 1 2 3 0 3 2 0 3 2 3 0 0 3 0 2 2 3 2 3 2 2 0 1 3 0 1 1 2 2 2 0 0\n",
      " 2 0 0 3 1 1 1 0 0 0 1 2 0 3 3 3 0 0 1 2 2 1 0 1 1 0 1 2 0 0 3 3 1 3 1 2 3\n",
      " 0 1 0 2 1 0 3 2 0 3 1 1 0 2 3 3 2 3 0 3 3 0 0 0 3 3 2 0 2 1 1 1 0 3 3 0 3\n",
      " 0 3 1 1 0 3 0 2 2 2 1 0 2 1 0 1 0 0 1 0 3 3 3 3 0 1 3 1 1 0 0 3 2 0 2 0 3\n",
      " 1 2 2 2 0 3 0 3 0 0 3 0 3 0 0 2 3 2 0 1 3 2 0 0 2 3 0 3 0 0 1 2 2 1 1 0 3\n",
      " 2 1 2 3 3 0 1 2 2 0 3 3 0 2 3 1 1 3 0 2 3 2 0 1 2 3 3 0 3 3 0 2 3 3 2 2 3\n",
      " 2 0 1 2 0 2 1 1 1 3 3 1 2 0 0 1 3 1 0 2 1 3 0 0 0 2 3 1 2 0 3 3 2 1 3 0 0\n",
      " 3 1 2 1 2 3 3 0 3 0 2 2 0 2 1 2 3 0 0 3 3 0 0 1 1 3 1 3 0 2 2 0 2 3 3 3 0\n",
      " 2 0 0 1 2 3 3 0 2 2 2 1 3 0 0 2 0 1 0 0 3 2 3 0 0 0 0 3 3 3 3 0 0 3 0 1 3\n",
      " 2]\n"
     ]
    }
   ],
   "source": [
    "print(len(y_pred1))\n",
    "print(y_pred1)"
   ]
  },
  {
   "cell_type": "markdown",
   "metadata": {},
   "source": [
    "## K-NN"
   ]
  },
  {
   "cell_type": "code",
   "execution_count": 296,
   "metadata": {},
   "outputs": [
    {
     "data": {
      "text/plain": [
       "KNeighborsClassifier(algorithm='auto', leaf_size=30, metric='minkowski',\n",
       "           metric_params=None, n_jobs=1, n_neighbors=5, p=2,\n",
       "           weights='uniform')"
      ]
     },
     "execution_count": 296,
     "metadata": {},
     "output_type": "execute_result"
    }
   ],
   "source": [
    "c2=neighbors.KNeighborsClassifier()\n",
    "c2.fit(X_train1, y_train1)"
   ]
  },
  {
   "cell_type": "code",
   "execution_count": 297,
   "metadata": {},
   "outputs": [],
   "source": [
    "y_pred1=c2.predict(X_test1)"
   ]
  },
  {
   "cell_type": "code",
   "execution_count": 298,
   "metadata": {},
   "outputs": [
    {
     "data": {
      "text/plain": [
       "array([2, 3, 3, 3, 1, 3, 3, 1, 2, 0, 3, 3, 0, 1, 1, 0, 2, 1, 3, 1, 1, 2,\n",
       "       1, 1, 3, 0, 1, 0, 3, 0, 2, 0, 3, 0, 0, 0, 2, 1, 2, 1, 0, 0, 0, 0,\n",
       "       0, 0, 0, 2, 0, 2, 1, 0, 1, 0, 3, 1, 3, 1, 1, 3, 3, 2, 0, 3, 0, 0,\n",
       "       1, 2, 1, 1, 0, 1, 1, 3, 3, 0, 2, 0, 2, 3, 0, 3, 3, 0, 3, 0, 2, 0,\n",
       "       3, 0, 1, 1, 1, 0, 1, 2, 0, 2, 0, 3, 2, 0, 0, 1, 0, 2, 0, 1, 2, 3,\n",
       "       2, 3, 1, 3, 3, 3, 3, 0, 3, 0, 0, 3, 1, 1, 1, 0, 3, 1, 2, 1, 0, 1,\n",
       "       1, 2, 3, 1, 2, 0, 2, 1, 1, 3, 2, 2, 3, 3, 3, 2, 1, 3, 3, 3, 0, 1,\n",
       "       2, 3, 3, 3, 3, 3, 2, 2, 2, 3, 1, 3, 2, 0, 3, 0, 0, 0, 1, 0, 0, 2,\n",
       "       0, 0, 1, 2, 1, 0, 0, 0, 0, 1, 1, 1, 0, 0, 0, 0, 0, 3, 1, 1, 1, 2,\n",
       "       1, 3, 1, 1, 3, 3, 3, 0, 2, 2, 1, 0, 1, 2, 1, 2, 3, 1, 1, 1, 0, 3,\n",
       "       1, 2, 3, 0, 0, 1, 0, 3, 0, 2, 0, 1, 1, 1, 2, 0, 2, 0, 2, 0, 1, 0,\n",
       "       0, 2, 1, 3, 2, 3, 0, 2, 3, 0, 0, 3, 3, 3, 1, 3, 1, 1, 3, 2, 0, 3,\n",
       "       3, 3, 3, 1, 0, 1, 2, 2, 1, 1, 3, 1, 0, 3, 0, 1, 2, 0, 0, 3, 0, 3,\n",
       "       2, 1, 0, 3, 2, 2, 3, 1, 2, 0, 1, 0, 2, 3, 1, 0, 0, 3, 0, 3, 0, 0,\n",
       "       2, 0, 2, 3, 0, 3, 1, 2, 1, 1, 0, 0, 0, 1, 3, 1, 0, 0, 0, 2, 2, 0,\n",
       "       3, 3, 0, 3, 3, 2, 3, 1, 3, 3, 1, 1, 3, 3, 3, 0, 3, 0, 2, 1, 3, 1,\n",
       "       3, 3, 0, 1, 1, 3, 1, 3, 0, 2, 1, 1, 1, 0, 2, 0, 1, 0, 1, 0, 1, 3,\n",
       "       1, 0, 2, 1, 0, 2, 3, 0, 2, 0, 2, 1, 2, 0, 3, 1, 1, 3, 1, 2, 2, 0,\n",
       "       1, 1, 0, 3, 1, 0, 0, 2, 0, 0, 1, 0, 0, 0, 0, 2, 1, 3, 1, 3, 0, 3,\n",
       "       0, 3, 0, 0, 1, 1, 1, 0, 2, 2, 2, 3, 1, 2, 2, 2, 1, 2, 2, 1, 1, 1,\n",
       "       2, 1, 0, 0, 1, 0, 2, 1, 1, 3, 3, 0, 3, 2, 0, 0, 3, 2, 1, 0, 3, 2,\n",
       "       3, 1, 3, 1, 3, 3, 3, 3, 0, 1, 0, 1, 2, 0, 1, 1, 1, 0, 0, 1, 2, 3,\n",
       "       3, 3, 2, 1, 1, 2, 1, 2, 3, 3, 1, 1, 3, 2, 3, 3, 1, 0, 1, 3, 0, 0,\n",
       "       0, 3, 1, 1, 2, 1, 2, 0, 3, 0, 2, 1, 0, 3, 0, 2, 3, 0, 1, 1, 2, 3,\n",
       "       0, 0, 1, 3, 2, 0, 2, 0, 2, 0, 3, 3, 0, 3, 3, 1, 2, 0, 1, 1, 3, 0,\n",
       "       3, 1, 2, 0, 1, 1, 0, 3, 1, 0, 3, 2, 3, 2, 1, 3, 3, 3, 1, 3, 2, 2,\n",
       "       2, 0, 3, 3, 3, 1, 1, 1, 2, 1, 1, 1, 0, 0, 2, 1, 3, 2, 0, 3, 0, 3,\n",
       "       2, 0, 1, 3, 1, 1, 1, 1, 0, 1, 1, 1, 0, 0, 0, 2, 1, 0, 2, 2, 1, 0,\n",
       "       3, 0, 1, 3, 1, 0, 0, 0, 0, 0, 3, 0, 3, 0, 3, 1, 0, 3, 2, 1, 2, 0,\n",
       "       3, 1, 3, 1, 0, 3, 1, 1, 0, 1, 0, 0, 1, 1, 1, 1, 1, 3, 0, 3, 2, 1,\n",
       "       0, 3, 2, 0, 1, 2, 0, 3, 3, 0, 3, 1, 2, 1, 0, 3, 1, 0, 3, 1, 3, 1,\n",
       "       0, 3, 0, 2, 1, 3, 1, 2, 1, 1, 0, 0, 3, 1, 1, 2, 2, 2, 2, 0, 0, 2,\n",
       "       0, 0, 2, 0, 1, 2, 0, 0, 0, 1, 1, 0, 3, 2, 2, 0, 0, 0, 2, 2, 1, 1,\n",
       "       1, 1, 0, 1, 0, 0, 1, 3, 3, 1, 3, 1, 2, 3, 0, 1, 0, 2, 1, 0, 1, 1,\n",
       "       1, 3, 1, 2, 0, 2, 3, 3, 2, 3, 0, 3, 2, 0, 1, 0, 2, 2, 2, 0, 2, 1,\n",
       "       2, 0, 0, 2, 1, 1, 3, 0, 2, 1, 2, 1, 3, 1, 2, 2, 1, 2, 0, 3, 1, 0,\n",
       "       1, 0, 0, 1, 1, 3, 3, 3, 3, 0, 1, 2, 0, 1, 0, 0, 2, 2, 0, 2, 0, 2,\n",
       "       0, 2, 2, 2, 0, 1, 1, 3, 0, 0, 3, 1, 1, 0, 0, 1, 2, 2, 0, 2, 2, 1,\n",
       "       0, 0, 2, 3, 0, 3, 0, 0, 0, 1, 2, 2, 2, 0, 3, 2, 1, 2, 2, 3, 0, 1,\n",
       "       2, 2, 0, 3, 3, 0, 2, 3, 2, 1, 3, 0, 1, 3, 2, 1, 1, 2, 3, 2, 0, 3,\n",
       "       3, 0, 2, 3, 2, 3, 1, 3, 2, 0, 1, 1, 0, 1, 2, 1, 1, 3, 2, 1, 2, 0,\n",
       "       0, 1, 3, 2, 0, 2, 1, 3, 0, 0, 0, 2, 2, 3, 2, 0, 2, 3, 2, 0, 3, 0,\n",
       "       0, 3, 1, 1, 1, 2, 1, 3, 0, 3, 0, 2, 2, 0, 1, 1, 1, 2, 0, 0, 2, 1,\n",
       "       0, 0, 1, 0, 3, 2, 2, 0, 1, 2, 0, 2, 3, 3, 3, 0, 2, 0, 0, 1, 1, 2,\n",
       "       3, 0, 1, 2, 1, 1, 1, 0, 1, 2, 0, 1, 1, 0, 2, 2, 1, 0, 0, 0, 0, 3,\n",
       "       2, 3, 3, 0, 0, 2, 0, 1, 3, 2], dtype=int64)"
      ]
     },
     "execution_count": 298,
     "metadata": {},
     "output_type": "execute_result"
    }
   ],
   "source": [
    "y_pred1"
   ]
  },
  {
   "cell_type": "markdown",
   "metadata": {},
   "source": [
    "## Write to csv file"
   ]
  },
  {
   "cell_type": "code",
   "execution_count": 402,
   "metadata": {},
   "outputs": [],
   "source": [
    "f = open(\"sample.csv\", 'w')\n",
    "headers = \"id,price_range\\n\"\n",
    "f.write(headers)\n",
    "\n",
    "for i in range(0,1000):\n",
    "    f.write(\"{}\".format(i+1) + \",\" + \"{}\".format(y_pred1[i]) + \"\\n\")\n",
    "    "
   ]
  },
  {
   "cell_type": "code",
   "execution_count": 403,
   "metadata": {},
   "outputs": [],
   "source": [
    "f.close()"
   ]
  },
  {
   "cell_type": "code",
   "execution_count": null,
   "metadata": {},
   "outputs": [],
   "source": [
    "#score1=accuracy_score(y_test1,y_pred1)*100\n",
    "#print(\"Accuracy score: \", round(score1,1), \"%\" )"
   ]
  }
 ],
 "metadata": {
  "kernelspec": {
   "display_name": "Python 3",
   "language": "python",
   "name": "python3"
  },
  "language_info": {
   "codemirror_mode": {
    "name": "ipython",
    "version": 3
   },
   "file_extension": ".py",
   "mimetype": "text/x-python",
   "name": "python",
   "nbconvert_exporter": "python",
   "pygments_lexer": "ipython3",
   "version": "3.6.4"
  }
 },
 "nbformat": 4,
 "nbformat_minor": 1
}
